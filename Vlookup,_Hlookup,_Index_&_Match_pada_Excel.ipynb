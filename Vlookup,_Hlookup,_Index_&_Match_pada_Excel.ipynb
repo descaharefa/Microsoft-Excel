{
  "nbformat": 4,
  "nbformat_minor": 0,
  "metadata": {
    "colab": {
      "provenance": [],
      "mount_file_id": "1cWLnHnYTq44XoUeNdPjgHeR5AED7KIPZ",
      "authorship_tag": "ABX9TyPyAdESrDXK/UygH25sX5nq",
      "include_colab_link": true
    },
    "kernelspec": {
      "name": "python3",
      "display_name": "Python 3"
    },
    "language_info": {
      "name": "python"
    }
  },
  "cells": [
    {
      "cell_type": "markdown",
      "metadata": {
        "id": "view-in-github",
        "colab_type": "text"
      },
      "source": [
        "<a href=\"https://colab.research.google.com/github/descaharefa/Microsoft-Excel/blob/main/Vlookup%2C_Hlookup%2C_Index_%26_Match_pada_Excel.ipynb\" target=\"_parent\"><img src=\"https://colab.research.google.com/assets/colab-badge.svg\" alt=\"Open In Colab\"/></a>"
      ]
    },
    {
      "cell_type": "markdown",
      "source": [
        "**VLOOKUP, HLOOKUP, INDEX & MATCH PADA EXCEL**\n",
        "\n",
        "Nama : Desca W. Harefa"
      ],
      "metadata": {
        "id": "jY7lJ7se86ZI"
      }
    },
    {
      "cell_type": "markdown",
      "source": [
        "# **Penjelasan Fungsi-fungsi Tambahan pada Excel**\n",
        "\n",
        "\n",
        "# 1. Fungsi Vlookup\n",
        "\n",
        "> Fungsi ini digunakan untuk mencari nilai dalam kolom tertentu pada rentang data dan mengembalikan nilai yang sesuai dari kolom yang ditentukan\n",
        "\n",
        "```\n",
        "```\n",
        "\n",
        "\n",
        "# 2. Fungsi Hlookup\n",
        "\n",
        "> Serupa dengan VLOOKUP, tetapi mencari nilai dalam baris tertentu pada rentang data dan mengembalikan nilai yang sesuai dari baris yang ditentukan\n",
        "\n",
        "\n",
        "```\n",
        "```\n",
        "\n",
        "# 3. Fungsi Index-Match\n",
        "\n",
        "> Kombinasi INDEX dan MATCH sering digunakan untuk mencari nilai dalam rentang data dan mengembalikan nilai yang sesuai. INDEX digunakan untuk merujuk pada sel spesifik, sementara MATCH digunakan untuk mencari posisi nilai\n",
        "\n",
        "\n",
        "```\n",
        "```\n",
        "\n",
        "# 4. Fungsi IfError\n",
        "\n",
        "> Fungsi ini digunakan untuk menangani kesalahan (error) dalam rumus. Jika rumus yang diberikan menghasilkan kesalahan, IFERROR akan mengembalikan nilai alternatif\n",
        "\n",
        "\n",
        "```\n",
        "```\n",
        "\n",
        "# 5. Fungsi IsError\n",
        "\n",
        "> Fungsi ini mengembalikan nilai TRUE jika rumus yang diberikan menghasilkan kesalahan, dan FALSE jika tidak\n",
        "\n",
        "\n",
        "```\n",
        "```\n",
        "\n",
        "# 6. Fungsi Large\n",
        "\n",
        "> Fungsi ini digunakan untuk mengembalikan nilai terbesar (n-th largest) dari suatu rentang data\n",
        "\n",
        "\n",
        "```\n",
        "```\n",
        "\n",
        "# 7. Fungsi Small\n",
        "\n",
        "> Fungsi ini digunakan untuk mengembalikan nilai terkecil (n-th smallest) dari suatu rentang data\n",
        "\n",
        "\n",
        "```\n",
        "```\n"
      ],
      "metadata": {
        "id": "VRrnNdMS9dxp"
      }
    }
  ]
}