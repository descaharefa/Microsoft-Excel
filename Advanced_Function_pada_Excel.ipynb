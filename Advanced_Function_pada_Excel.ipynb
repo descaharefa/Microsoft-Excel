{
  "nbformat": 4,
  "nbformat_minor": 0,
  "metadata": {
    "colab": {
      "provenance": [],
      "mount_file_id": "1cWLnHnYTq44XoUeNdPjgHeR5AED7KIPZ",
      "authorship_tag": "ABX9TyPHgYvi3cpgg9PLRTpMWG2O",
      "include_colab_link": true
    },
    "kernelspec": {
      "name": "python3",
      "display_name": "Python 3"
    },
    "language_info": {
      "name": "python"
    }
  },
  "cells": [
    {
      "cell_type": "markdown",
      "metadata": {
        "id": "view-in-github",
        "colab_type": "text"
      },
      "source": [
        "<a href=\"https://colab.research.google.com/github/descaharefa/Microsoft-Excel/blob/main/Advanced_Function_pada_Excel.ipynb\" target=\"_parent\"><img src=\"https://colab.research.google.com/assets/colab-badge.svg\" alt=\"Open In Colab\"/></a>"
      ]
    },
    {
      "cell_type": "markdown",
      "source": [
        "# **ADVANCED FUNCTION PADA EXCEL**\n",
        "Nama : Desca W. Harefa"
      ],
      "metadata": {
        "id": "jY7lJ7se86ZI"
      }
    },
    {
      "cell_type": "markdown",
      "source": [
        "# **Penjelasan Fungsi-fungsi Tambahan pada Excel**\n",
        "\n",
        "\n",
        "# 1. Fungsi Trim\n",
        "\n",
        "> Fungsi pada Microsoft Excel yang digunakan untuk menghilangkan spasi berlebih di Excel\n",
        "\n",
        "```\n",
        "```\n",
        "\n",
        "\n",
        "# 2. Fungsi And Or\n",
        "\n",
        "> Salah satu fungsi logika untuk membandingkan 2 logika atau lebih sehingga menghasilkan sebuah nilai TRUE atau FALSE\n",
        "\n",
        "\n",
        "```\n",
        "```\n",
        "\n",
        "# 3. Fungsi If\n",
        "\n",
        "> Rumus IF dipakai untuk membandingkan logika terhadap nilai tertentu, dengan rumus fungsi IF kita bisa membandingkan logika yang kita masukkan\n",
        "\n",
        "\n",
        "```\n",
        "```\n",
        "\n",
        "# 4. Fungsi IsNumber\n",
        "\n",
        "> Fungsi pada excel untuk mengembalikan nilai TRUE jika nilai yang diperiksa adalah angka, dan FALSE jika bukan angka\n",
        "\n",
        "\n",
        "```\n",
        "```\n",
        "\n",
        "# 5. Fungsi Sub Total\n",
        "\n",
        "> Fungsi yang digunakan untuk melakukan perhitungan total pada sekelompok data tertentu\n",
        "\n",
        "\n",
        "```\n",
        "```\n",
        "\n",
        "# 6. Fungsi Count IFS\n",
        "\n",
        "> Rumus Count IFS dipakai untuk  untuk menghitung jumlah sel yang memenuhi beberapa kriteria\n",
        "\n",
        "\n",
        "```\n",
        "```\n",
        "\n",
        "# 7. Fungsi Sum IFS\n",
        "\n",
        "> Dengan menggunakan SUMIFS, Anda dapat menentukan satu atau lebih rentang kriteria dan jumlah yang sesuai dengan kriteria tersebut.\n",
        "\n",
        "\n",
        "```\n",
        "```\n",
        "\n",
        "# 8. Fungsi Sum Product\n",
        "\n",
        "> Fungsi ini digunakan untuk melakukan operasi perkalian dan penjumlahan pada array atau rentang data\n",
        "\n",
        "```\n",
        "```\n",
        "\n",
        "# 9. Fungsi Database\n",
        "\n",
        "*   **DGET**\n",
        "\n",
        "> Mengambil nilai tunggal dari suatu baris atau kolom berdasarkan kriteria tertentu dalam sebuah daftar atau tabel\n",
        "\n",
        "*   **DAVERAGE**\n",
        "\n",
        "> Menghitung rata-rata nilai berdasarkan kriteria tertentu dalam sebuah daftar atau tabel\n",
        "\n",
        "*   **DCOUNT**\n",
        "\n",
        "> Menghitung jumlah sel yang berisi data berdasarkan kriteria tertentu dalam sebuah daftar atau tabel\n",
        "\n",
        "\n",
        "*   **DMAX & DMIN**\n",
        "\n",
        "> DMAX digunakan untuk mengambil nilai maksimum dari rentang data berdasarkan kriteria tertentu dalam sebuah daftar atau tabel. Sedangkan, DMIN digunakan untuk mengambil nilai minimum dari rentang data berdasarkan kriteria tertentu dalam sebuah daftar atau tabel\n",
        "\n",
        "*   **DPRODUCT**\n",
        "\n",
        "> Rumus yang digunakan untuk menghitung produk dari nilai-nilai yang memenuhi kriteria tertentu dalam suatu database\n"
      ],
      "metadata": {
        "id": "VRrnNdMS9dxp"
      }
    }
  ]
}