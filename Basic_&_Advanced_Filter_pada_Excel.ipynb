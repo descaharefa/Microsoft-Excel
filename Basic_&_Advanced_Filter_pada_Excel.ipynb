{
  "nbformat": 4,
  "nbformat_minor": 0,
  "metadata": {
    "colab": {
      "provenance": [],
      "mount_file_id": "1cWLnHnYTq44XoUeNdPjgHeR5AED7KIPZ",
      "authorship_tag": "ABX9TyMl7IalL6x5Krps4KFfetgY",
      "include_colab_link": true
    },
    "kernelspec": {
      "name": "python3",
      "display_name": "Python 3"
    },
    "language_info": {
      "name": "python"
    }
  },
  "cells": [
    {
      "cell_type": "markdown",
      "metadata": {
        "id": "view-in-github",
        "colab_type": "text"
      },
      "source": [
        "<a href=\"https://colab.research.google.com/github/descaharefa/Microsoft-Excel/blob/main/Basic_%26_Advanced_Filter_pada_Excel.ipynb\" target=\"_parent\"><img src=\"https://colab.research.google.com/assets/colab-badge.svg\" alt=\"Open In Colab\"/></a>"
      ]
    },
    {
      "cell_type": "markdown",
      "source": [
        "**BASIC DAN ADVANCED FILTER PADA EXCEL**\n",
        "\n",
        "Nama : Desca W. Harefa"
      ],
      "metadata": {
        "id": "jY7lJ7se86ZI"
      }
    },
    {
      "cell_type": "markdown",
      "source": [
        "# **Penjelasan Fungsi-fungsi Tambahan pada Excel**\n",
        "\n",
        "\n",
        "# 1. Fungsi Filter\n",
        "\n",
        "> Filter dasar digunakan untuk menyembunyikan baris data yang tidak memenuhi kriteria tertentu, sehingga Anda dapat fokus pada informasi yang relevan\n",
        "\n",
        "```\n",
        "```\n",
        "\n",
        "\n",
        "# 2. Fungsi Advanced Filter\n",
        "\n",
        "> Advanced filter memberikan kontrol yang lebih besar dalam menyaring data dengan memberikan kemampuan untuk menggunakan kriteria lebih kompleks. Anda dapat menggunakan advanced filter untuk menyalin hasil filter ke lokasi lain di lembar kerja\n",
        "\n",
        "\n",
        "**Kelebihan Advanced Filter :**\n",
        "\n",
        "\n",
        "\n",
        "* Dapat menangani filter dengan kriteria yang lebih kompleks seperti AND dan OR\n",
        "*  Memungkinkan penggunaan kriteria dari sel-sel tertentu di lembar kerja (criteria range)\n",
        "\n",
        "*  Hasil filter dapat dengan mudah disalin ke lokasi yang diinginkan\n"
      ],
      "metadata": {
        "id": "VRrnNdMS9dxp"
      }
    }
  ]
}